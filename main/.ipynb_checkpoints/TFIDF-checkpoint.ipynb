{
 "cells": [
  {
   "cell_type": "markdown",
   "metadata": {},
   "source": [
    "We separate this into two separate notebooks because of memory issues when running in a single notebook. Part of this reason is that is attributed to the size of the dataset even when a sample is used. If not separated from the main file then there is a high chance that the kernel will crash."
   ]
  },
  {
   "cell_type": "code",
   "execution_count": 1,
   "metadata": {},
   "outputs": [],
   "source": [
    "import numpy as np \n",
    "import pandas as pd \n",
    "import re\n",
    "from sklearn.ensemble import RandomForestClassifier\n",
    "from sklearn.metrics import classification_report, confusion_matrix, accuracy_score\n",
    "from nltk.corpus import stopwords\n",
    "from sklearn.feature_extraction.text import TfidfVectorizer\n",
    "from sklearn.model_selection import train_test_split"
   ]
  },
  {
   "cell_type": "code",
   "execution_count": 2,
   "metadata": {},
   "outputs": [],
   "source": [
    "wine_df = pd.read_csv(\"wine.csv\")\n",
    "reviews = wine_df.sample(20000).reset_index()"
   ]
  },
  {
   "cell_type": "markdown",
   "metadata": {},
   "source": [
    "Example Description"
   ]
  },
  {
   "cell_type": "code",
   "execution_count": 3,
   "metadata": {},
   "outputs": [
    {
     "data": {
      "text/plain": [
       "\"A fruit-driven style, with cherry and raspberry notes accented by hints of chocolate and coffee. It's ripe and creamy on the midpalate, just fading a little too quickly on the finish. Drink now–2013.\""
      ]
     },
     "execution_count": 3,
     "metadata": {},
     "output_type": "execute_result"
    }
   ],
   "source": [
    "reviews['description'][5]"
   ]
  },
  {
   "cell_type": "markdown",
   "metadata": {},
   "source": [
    "In order to perform sentiment analysis we have to break the scores into ranges such as good, average, poor, etc..."
   ]
  },
  {
   "cell_type": "code",
   "execution_count": 4,
   "metadata": {},
   "outputs": [],
   "source": [
    "def classify_wine_points(score):\n",
    "    if score <= 80:\n",
    "        return 'ok'\n",
    "    elif score <= 85:\n",
    "        return 'below average'\n",
    "    elif score <= 90:\n",
    "        return 'average'\n",
    "    elif score <= 95:\n",
    "        return 'good'\n",
    "    elif score <= 98:\n",
    "        return 'great'\n",
    "    else:\n",
    "        return 'perfect'"
   ]
  },
  {
   "cell_type": "code",
   "execution_count": 5,
   "metadata": {},
   "outputs": [],
   "source": [
    "reviews['classification'] = reviews['points'].apply(classify_wine_points)"
   ]
  },
  {
   "cell_type": "markdown",
   "metadata": {},
   "source": [
    "We remove punctuation and other special characters and convert everything to lower case"
   ]
  },
  {
   "cell_type": "code",
   "execution_count": 6,
   "metadata": {},
   "outputs": [],
   "source": [
    "descriptions = []\n",
    "\n",
    "for descrip in reviews['description']:\n",
    "    line = re.sub(r'\\W', ' ', str(descrip))\n",
    "    line = line.lower()\n",
    "    descriptions.append(line)"
   ]
  },
  {
   "cell_type": "markdown",
   "metadata": {},
   "source": [
    "Here we use TF-IDF vectorization in combination with a random forest classifier to predict the score range"
   ]
  },
  {
   "cell_type": "code",
   "execution_count": 7,
   "metadata": {},
   "outputs": [],
   "source": [
    "class_col = reviews.columns.get_loc('classification')\n",
    "labels = reviews.iloc[:, class_col].values\n",
    "vec = TfidfVectorizer(max_features=2500, min_df=7, max_df=0.8, stop_words=stopwords.words('english'))\n",
    "descriptions = vec.fit_transform(descriptions).toarray()\n",
    "\n",
    "X_train, X_test, y_train, y_test = train_test_split(descriptions, labels, test_size=0.2, random_state=0)"
   ]
  },
  {
   "cell_type": "markdown",
   "metadata": {},
   "source": [
    "We dont add a value for max_depth in order to maximize precision even though the run time is poor"
   ]
  },
  {
   "cell_type": "code",
   "execution_count": 8,
   "metadata": {},
   "outputs": [],
   "source": [
    "text_classifier = RandomForestClassifier(n_estimators=200, random_state=0)\n",
    "text_classifier.fit(X_train, y_train)\n",
    "pred = text_classifier.predict(X_test)"
   ]
  },
  {
   "cell_type": "markdown",
   "metadata": {},
   "source": [
    "Accuracy is around 66-69% depending on the sample, this is a decenttly wide range but a sample of the data has to be used or else kernel will crash but the recall is **very** bad also labels 0, 4, and 5 dont get recognized at all which another bad sign\n",
    "\n",
    "This is much more accurate than the previous methods which solely relied on numerical values but not without its problems"
   ]
  },
  {
   "cell_type": "code",
   "execution_count": 9,
   "metadata": {},
   "outputs": [
    {
     "name": "stdout",
     "output_type": "stream",
     "text": [
      "               precision    recall  f1-score   support\n",
      "\n",
      "      average       0.65      0.92      0.76      2256\n",
      "below average       0.75      0.24      0.36       682\n",
      "         good       0.76      0.43      0.55      1025\n",
      "        great       0.00      0.00      0.00        21\n",
      "           ok       0.00      0.00      0.00        13\n",
      "      perfect       0.00      0.00      0.00         3\n",
      "\n",
      "     accuracy                           0.67      4000\n",
      "    macro avg       0.36      0.27      0.28      4000\n",
      " weighted avg       0.69      0.67      0.63      4000\n",
      "\n",
      "0.6715\n"
     ]
    },
    {
     "name": "stderr",
     "output_type": "stream",
     "text": [
      "/opt/conda/lib/python3.8/site-packages/sklearn/metrics/_classification.py:1221: UndefinedMetricWarning: Precision and F-score are ill-defined and being set to 0.0 in labels with no predicted samples. Use `zero_division` parameter to control this behavior.\n",
      "  _warn_prf(average, modifier, msg_start, len(result))\n"
     ]
    }
   ],
   "source": [
    "print(classification_report(y_test,pred))\n",
    "print(accuracy_score(y_test, pred))"
   ]
  }
 ],
 "metadata": {
  "kernelspec": {
   "display_name": "Python 3",
   "language": "python",
   "name": "python3"
  },
  "language_info": {
   "codemirror_mode": {
    "name": "ipython",
    "version": 3
   },
   "file_extension": ".py",
   "mimetype": "text/x-python",
   "name": "python",
   "nbconvert_exporter": "python",
   "pygments_lexer": "ipython3",
   "version": "3.8.5"
  }
 },
 "nbformat": 4,
 "nbformat_minor": 4
}
