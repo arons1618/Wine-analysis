{
 "cells": [
  {
   "cell_type": "code",
   "execution_count": 1,
   "metadata": {},
   "outputs": [
    {
     "name": "stdout",
     "output_type": "stream",
     "text": [
      "Requirement already satisfied: nltk in /opt/conda/lib/python3.8/site-packages (3.5)\r\n",
      "Requirement already satisfied: regex in /opt/conda/lib/python3.8/site-packages (from nltk) (2020.11.13)\r\n",
      "Requirement already satisfied: click in /opt/conda/lib/python3.8/site-packages (from nltk) (7.1.2)\r\n",
      "Requirement already satisfied: joblib in /opt/conda/lib/python3.8/site-packages (from nltk) (0.16.0)\r\n",
      "Requirement already satisfied: tqdm in /opt/conda/lib/python3.8/site-packages (from nltk) (4.48.2)\r\n"
     ]
    },
    {
     "name": "stderr",
     "output_type": "stream",
     "text": [
      "[nltk_data] Downloading package stopwords to /home/jovyan/nltk_data...\n",
      "[nltk_data]   Package stopwords is already up-to-date!\n"
     ]
    },
    {
     "data": {
      "text/plain": [
       "True"
      ]
     },
     "execution_count": 1,
     "metadata": {},
     "output_type": "execute_result"
    }
   ],
   "source": [
    "!pip install nltk\n",
    "import numpy as np \n",
    "import pandas as pd \n",
    "import re\n",
    "from sklearn.ensemble import RandomForestClassifier\n",
    "from sklearn.metrics import classification_report, r2_score, mean_squared_error\n",
    "from nltk.corpus import stopwords\n",
    "from sklearn.feature_extraction.text import TfidfVectorizer\n",
    "from sklearn.model_selection import train_test_split\n",
    "from sklearn.ensemble import RandomForestRegressor\n",
    "from sklearn.model_selection import cross_val_score\n",
    "import nltk\n",
    "nltk.download('stopwords')"
   ]
  },
  {
   "cell_type": "markdown",
   "metadata": {},
   "source": [
    "# Wine Points Prediction"
   ]
  },
  {
   "cell_type": "markdown",
   "metadata": {},
   "source": [
    "**Note:** a sample is being used due to the kernel running out of memory due to the jupyter notebook kernel running out of memory and dying when performing analysis otherwise as a result predictions depend on the sample that is given as it is obtained randomly. Furthermore these predictions vary with $\\pm1\\%$"
   ]
  },
  {
   "cell_type": "code",
   "execution_count": 4,
   "metadata": {},
   "outputs": [
    {
     "data": {
      "text/html": [
       "<div>\n",
       "<style scoped>\n",
       "    .dataframe tbody tr th:only-of-type {\n",
       "        vertical-align: middle;\n",
       "    }\n",
       "\n",
       "    .dataframe tbody tr th {\n",
       "        vertical-align: top;\n",
       "    }\n",
       "\n",
       "    .dataframe thead th {\n",
       "        text-align: right;\n",
       "    }\n",
       "</style>\n",
       "<table border=\"1\" class=\"dataframe\">\n",
       "  <thead>\n",
       "    <tr style=\"text-align: right;\">\n",
       "      <th></th>\n",
       "      <th>points</th>\n",
       "      <th>description</th>\n",
       "      <th>price</th>\n",
       "      <th>title</th>\n",
       "      <th>variety</th>\n",
       "      <th>country</th>\n",
       "      <th>designation</th>\n",
       "      <th>province</th>\n",
       "      <th>winery</th>\n",
       "    </tr>\n",
       "  </thead>\n",
       "  <tbody>\n",
       "    <tr>\n",
       "      <th>0</th>\n",
       "      <td>83</td>\n",
       "      <td>Barely ripe, with green citrus and feline spra...</td>\n",
       "      <td>18.0</td>\n",
       "      <td>Starmont 2009 Sauvignon Blanc (Napa Valley)</td>\n",
       "      <td>Sauvignon Blanc</td>\n",
       "      <td>US</td>\n",
       "      <td>NaN</td>\n",
       "      <td>California</td>\n",
       "      <td>Starmont</td>\n",
       "    </tr>\n",
       "    <tr>\n",
       "      <th>1</th>\n",
       "      <td>90</td>\n",
       "      <td>This 100% Syrah shows intense blackberry, crèm...</td>\n",
       "      <td>45.0</td>\n",
       "      <td>Donelan 2010 Cuvee Christine Syrah (Sonoma Cou...</td>\n",
       "      <td>Syrah</td>\n",
       "      <td>US</td>\n",
       "      <td>Cuvee Christine</td>\n",
       "      <td>California</td>\n",
       "      <td>Donelan</td>\n",
       "    </tr>\n",
       "    <tr>\n",
       "      <th>2</th>\n",
       "      <td>93</td>\n",
       "      <td>This year's dry conditions produced a fine cro...</td>\n",
       "      <td>47.0</td>\n",
       "      <td>Burmester 1989 Colheita Tawny  (Port)</td>\n",
       "      <td>Port</td>\n",
       "      <td>Portugal</td>\n",
       "      <td>Colheita Tawny</td>\n",
       "      <td>Port</td>\n",
       "      <td>Burmester</td>\n",
       "    </tr>\n",
       "    <tr>\n",
       "      <th>3</th>\n",
       "      <td>86</td>\n",
       "      <td>This is a plush and upfront wine that offers s...</td>\n",
       "      <td>14.0</td>\n",
       "      <td>Pelassa 2005  Barbera d'Alba</td>\n",
       "      <td>Barbera</td>\n",
       "      <td>Italy</td>\n",
       "      <td>NaN</td>\n",
       "      <td>Piedmont</td>\n",
       "      <td>Pelassa</td>\n",
       "    </tr>\n",
       "    <tr>\n",
       "      <th>4</th>\n",
       "      <td>87</td>\n",
       "      <td>Pineapple and mango aromas mix with notes of b...</td>\n",
       "      <td>12.0</td>\n",
       "      <td>Columbia Crest 2014 Grand Estates Chardonnay (...</td>\n",
       "      <td>Chardonnay</td>\n",
       "      <td>US</td>\n",
       "      <td>Grand Estates</td>\n",
       "      <td>Washington</td>\n",
       "      <td>Columbia Crest</td>\n",
       "    </tr>\n",
       "  </tbody>\n",
       "</table>\n",
       "</div>"
      ],
      "text/plain": [
       "   points                                        description  price  \\\n",
       "0      83  Barely ripe, with green citrus and feline spra...   18.0   \n",
       "1      90  This 100% Syrah shows intense blackberry, crèm...   45.0   \n",
       "2      93  This year's dry conditions produced a fine cro...   47.0   \n",
       "3      86  This is a plush and upfront wine that offers s...   14.0   \n",
       "4      87  Pineapple and mango aromas mix with notes of b...   12.0   \n",
       "\n",
       "                                               title          variety  \\\n",
       "0        Starmont 2009 Sauvignon Blanc (Napa Valley)  Sauvignon Blanc   \n",
       "1  Donelan 2010 Cuvee Christine Syrah (Sonoma Cou...            Syrah   \n",
       "2              Burmester 1989 Colheita Tawny  (Port)             Port   \n",
       "3                       Pelassa 2005  Barbera d'Alba          Barbera   \n",
       "4  Columbia Crest 2014 Grand Estates Chardonnay (...       Chardonnay   \n",
       "\n",
       "    country      designation    province          winery  \n",
       "0        US              NaN  California        Starmont  \n",
       "1        US  Cuvee Christine  California         Donelan  \n",
       "2  Portugal   Colheita Tawny        Port       Burmester  \n",
       "3     Italy              NaN    Piedmont         Pelassa  \n",
       "4        US    Grand Estates  Washington  Columbia Crest  "
      ]
     },
     "execution_count": 4,
     "metadata": {},
     "output_type": "execute_result"
    }
   ],
   "source": [
    "wine_df = pd.read_csv(\"wine.csv\")\n",
    "str_cols = ['description', 'price',  'title', 'variety', 'country', 'designation', 'province', 'winery']\n",
    "\n",
    "reviews = wine_df.sample(20000)[['points'] + str_cols].reset_index()\n",
    "reviews = reviews.drop(['index'], axis=1)\n",
    "reviews.head()"
   ]
  },
  {
   "cell_type": "markdown",
   "metadata": {},
   "source": [
    "We first have to change features that we are going to use from categorical to numerical varialbes. This is done in order to give the features meaning when performing different forms of analysis on them in order to predict the points given to a bottle of wine"
   ]
  },
  {
   "cell_type": "code",
   "execution_count": 5,
   "metadata": {},
   "outputs": [
    {
     "data": {
      "text/html": [
       "<div>\n",
       "<style scoped>\n",
       "    .dataframe tbody tr th:only-of-type {\n",
       "        vertical-align: middle;\n",
       "    }\n",
       "\n",
       "    .dataframe tbody tr th {\n",
       "        vertical-align: top;\n",
       "    }\n",
       "\n",
       "    .dataframe thead th {\n",
       "        text-align: right;\n",
       "    }\n",
       "</style>\n",
       "<table border=\"1\" class=\"dataframe\">\n",
       "  <thead>\n",
       "    <tr style=\"text-align: right;\">\n",
       "      <th></th>\n",
       "      <th>price</th>\n",
       "      <th>title</th>\n",
       "      <th>variety</th>\n",
       "      <th>country</th>\n",
       "      <th>designation</th>\n",
       "      <th>province</th>\n",
       "      <th>winery</th>\n",
       "    </tr>\n",
       "  </thead>\n",
       "  <tbody>\n",
       "    <tr>\n",
       "      <th>0</th>\n",
       "      <td>18.0</td>\n",
       "      <td>0</td>\n",
       "      <td>0</td>\n",
       "      <td>0</td>\n",
       "      <td>-1</td>\n",
       "      <td>0</td>\n",
       "      <td>0</td>\n",
       "    </tr>\n",
       "    <tr>\n",
       "      <th>1</th>\n",
       "      <td>45.0</td>\n",
       "      <td>1</td>\n",
       "      <td>1</td>\n",
       "      <td>0</td>\n",
       "      <td>0</td>\n",
       "      <td>0</td>\n",
       "      <td>1</td>\n",
       "    </tr>\n",
       "    <tr>\n",
       "      <th>2</th>\n",
       "      <td>47.0</td>\n",
       "      <td>2</td>\n",
       "      <td>2</td>\n",
       "      <td>1</td>\n",
       "      <td>1</td>\n",
       "      <td>1</td>\n",
       "      <td>2</td>\n",
       "    </tr>\n",
       "    <tr>\n",
       "      <th>3</th>\n",
       "      <td>14.0</td>\n",
       "      <td>3</td>\n",
       "      <td>3</td>\n",
       "      <td>2</td>\n",
       "      <td>-1</td>\n",
       "      <td>2</td>\n",
       "      <td>3</td>\n",
       "    </tr>\n",
       "    <tr>\n",
       "      <th>4</th>\n",
       "      <td>12.0</td>\n",
       "      <td>4</td>\n",
       "      <td>4</td>\n",
       "      <td>0</td>\n",
       "      <td>2</td>\n",
       "      <td>3</td>\n",
       "      <td>4</td>\n",
       "    </tr>\n",
       "  </tbody>\n",
       "</table>\n",
       "</div>"
      ],
      "text/plain": [
       "   price  title  variety  country  designation  province  winery\n",
       "0   18.0      0        0        0           -1         0       0\n",
       "1   45.0      1        1        0            0         0       1\n",
       "2   47.0      2        2        1            1         1       2\n",
       "3   14.0      3        3        2           -1         2       3\n",
       "4   12.0      4        4        0            2         3       4"
      ]
     },
     "execution_count": 5,
     "metadata": {},
     "output_type": "execute_result"
    }
   ],
   "source": [
    "# assign numerical values to string columns\n",
    "\n",
    "factorized_wine = reviews[str_cols].drop(['description'], axis=1).copy()\n",
    "for col in str_cols[2:]:\n",
    "    factorized_wine[col] = pd.factorize(reviews[col])[0]\n",
    "\n",
    "factorized_wine.head()"
   ]
  },
  {
   "cell_type": "markdown",
   "metadata": {},
   "source": [
    "Now we assign the variables we just factorized along with the price of the wine to be our X values and our y value will be what we are trying to predict, which in this case are the points for a bottle of wine."
   ]
  },
  {
   "cell_type": "code",
   "execution_count": 6,
   "metadata": {},
   "outputs": [],
   "source": [
    "X = factorized_wine.to_numpy('int64')\n",
    "y = reviews['points'].values\n",
    "X_train, X_test, y_train, y_test = train_test_split(X, y, random_state=1)"
   ]
  },
  {
   "cell_type": "markdown",
   "metadata": {},
   "source": [
    "Below we perform several different formst of prediction to see which one produces the best result. \n",
    "\n",
    "We then need to determine how accurate this algorithm is given the estimates returned from the random forest regression. We do this by using `score()` which returns the coefficient of determination of the prediction ($r^2$). In other words it is the observed y variation that can be explained by the and by the regression model. We also compute the residual mean squared error of the model (rmse)."
   ]
  },
  {
   "cell_type": "markdown",
   "metadata": {},
   "source": [
    "### linear regression"
   ]
  },
  {
   "cell_type": "code",
   "execution_count": 7,
   "metadata": {},
   "outputs": [
    {
     "name": "stdout",
     "output_type": "stream",
     "text": [
      "r2 score: 0.025621093791445948\n",
      "rmse score: 3.004001678134892\n"
     ]
    }
   ],
   "source": [
    "from sklearn import linear_model\n",
    "\n",
    "model = linear_model.LinearRegression()\n",
    "model.fit(X_train, y_train)\n",
    "\n",
    "pred = model.predict(X_test)\n",
    "\n",
    "print('r2 score:', model.score(X_test,y_test))\n",
    "print('rmse score:', mean_squared_error(y_test, pred, squared=False))"
   ]
  },
  {
   "cell_type": "markdown",
   "metadata": {},
   "source": [
    "as you can see this isnt the best prediction model so lets try some other methods and see what we get"
   ]
  },
  {
   "cell_type": "markdown",
   "metadata": {},
   "source": [
    "### linear discriminant analysis"
   ]
  },
  {
   "cell_type": "code",
   "execution_count": 8,
   "metadata": {},
   "outputs": [
    {
     "name": "stdout",
     "output_type": "stream",
     "text": [
      "r2 score: 0.132\n",
      "rmse score: 3.1166648841349627\n"
     ]
    }
   ],
   "source": [
    "from sklearn.discriminant_analysis import LinearDiscriminantAnalysis\n",
    "\n",
    "lda_model = LinearDiscriminantAnalysis()\n",
    "lda_model.fit(X_train, y_train)\n",
    "\n",
    "pred = lda_model.predict(X_test)\n",
    "\n",
    "print('r2 score:', lda_model.score(X_test,y_test))\n",
    "print('rmse score:', mean_squared_error(y_test, pred, squared=False))"
   ]
  },
  {
   "cell_type": "markdown",
   "metadata": {},
   "source": [
    "The results from this method are not good either so onto the next one"
   ]
  },
  {
   "cell_type": "markdown",
   "metadata": {},
   "source": [
    "### classification tree"
   ]
  },
  {
   "cell_type": "code",
   "execution_count": 9,
   "metadata": {},
   "outputs": [
    {
     "name": "stdout",
     "output_type": "stream",
     "text": [
      "r2 score: 0.1468\n",
      "rmse score: 3.2819506394825626\n"
     ]
    }
   ],
   "source": [
    "from sklearn import tree\n",
    "\n",
    "dt_model = tree.DecisionTreeClassifier()\n",
    "dt_model.fit(X_train, y_train)\n",
    "\n",
    "pred = dt_model.predict(X_test)\n",
    "\n",
    "print('r2 score:', dt_model.score(X_test,y_test))\n",
    "print('rmse score:', mean_squared_error(y_test, pred, squared=False))"
   ]
  },
  {
   "cell_type": "markdown",
   "metadata": {},
   "source": [
    "The methods that we have done prior as well as this one are getting use nowhere and are showing very little signs of improvement so lets pivot to a different direction and try to predict the points based off of the description of the wine."
   ]
  },
  {
   "cell_type": "markdown",
   "metadata": {},
   "source": [
    "## Incorporating description"
   ]
  },
  {
   "cell_type": "code",
   "execution_count": 11,
   "metadata": {},
   "outputs": [
    {
     "data": {
      "text/html": [
       "<div>\n",
       "<style scoped>\n",
       "    .dataframe tbody tr th:only-of-type {\n",
       "        vertical-align: middle;\n",
       "    }\n",
       "\n",
       "    .dataframe tbody tr th {\n",
       "        vertical-align: top;\n",
       "    }\n",
       "\n",
       "    .dataframe thead th {\n",
       "        text-align: right;\n",
       "    }\n",
       "</style>\n",
       "<table border=\"1\" class=\"dataframe\">\n",
       "  <thead>\n",
       "    <tr style=\"text-align: right;\">\n",
       "      <th></th>\n",
       "      <th>points</th>\n",
       "      <th>description</th>\n",
       "      <th>price</th>\n",
       "      <th>title</th>\n",
       "      <th>variety</th>\n",
       "      <th>country</th>\n",
       "      <th>designation</th>\n",
       "      <th>province</th>\n",
       "      <th>winery</th>\n",
       "    </tr>\n",
       "  </thead>\n",
       "  <tbody>\n",
       "    <tr>\n",
       "      <th>0</th>\n",
       "      <td>83</td>\n",
       "      <td>Barely ripe, with green citrus and feline spra...</td>\n",
       "      <td>18.0</td>\n",
       "      <td>Starmont 2009 Sauvignon Blanc (Napa Valley)</td>\n",
       "      <td>Sauvignon Blanc</td>\n",
       "      <td>US</td>\n",
       "      <td>NaN</td>\n",
       "      <td>California</td>\n",
       "      <td>Starmont</td>\n",
       "    </tr>\n",
       "    <tr>\n",
       "      <th>1</th>\n",
       "      <td>90</td>\n",
       "      <td>This 100% Syrah shows intense blackberry, crèm...</td>\n",
       "      <td>45.0</td>\n",
       "      <td>Donelan 2010 Cuvee Christine Syrah (Sonoma Cou...</td>\n",
       "      <td>Syrah</td>\n",
       "      <td>US</td>\n",
       "      <td>Cuvee Christine</td>\n",
       "      <td>California</td>\n",
       "      <td>Donelan</td>\n",
       "    </tr>\n",
       "    <tr>\n",
       "      <th>2</th>\n",
       "      <td>93</td>\n",
       "      <td>This year's dry conditions produced a fine cro...</td>\n",
       "      <td>47.0</td>\n",
       "      <td>Burmester 1989 Colheita Tawny  (Port)</td>\n",
       "      <td>Port</td>\n",
       "      <td>Portugal</td>\n",
       "      <td>Colheita Tawny</td>\n",
       "      <td>Port</td>\n",
       "      <td>Burmester</td>\n",
       "    </tr>\n",
       "    <tr>\n",
       "      <th>3</th>\n",
       "      <td>86</td>\n",
       "      <td>This is a plush and upfront wine that offers s...</td>\n",
       "      <td>14.0</td>\n",
       "      <td>Pelassa 2005  Barbera d'Alba</td>\n",
       "      <td>Barbera</td>\n",
       "      <td>Italy</td>\n",
       "      <td>NaN</td>\n",
       "      <td>Piedmont</td>\n",
       "      <td>Pelassa</td>\n",
       "    </tr>\n",
       "    <tr>\n",
       "      <th>4</th>\n",
       "      <td>87</td>\n",
       "      <td>Pineapple and mango aromas mix with notes of b...</td>\n",
       "      <td>12.0</td>\n",
       "      <td>Columbia Crest 2014 Grand Estates Chardonnay (...</td>\n",
       "      <td>Chardonnay</td>\n",
       "      <td>US</td>\n",
       "      <td>Grand Estates</td>\n",
       "      <td>Washington</td>\n",
       "      <td>Columbia Crest</td>\n",
       "    </tr>\n",
       "  </tbody>\n",
       "</table>\n",
       "</div>"
      ],
      "text/plain": [
       "   points                                        description  price  \\\n",
       "0      83  Barely ripe, with green citrus and feline spra...   18.0   \n",
       "1      90  This 100% Syrah shows intense blackberry, crèm...   45.0   \n",
       "2      93  This year's dry conditions produced a fine cro...   47.0   \n",
       "3      86  This is a plush and upfront wine that offers s...   14.0   \n",
       "4      87  Pineapple and mango aromas mix with notes of b...   12.0   \n",
       "\n",
       "                                               title          variety  \\\n",
       "0        Starmont 2009 Sauvignon Blanc (Napa Valley)  Sauvignon Blanc   \n",
       "1  Donelan 2010 Cuvee Christine Syrah (Sonoma Cou...            Syrah   \n",
       "2              Burmester 1989 Colheita Tawny  (Port)             Port   \n",
       "3                       Pelassa 2005  Barbera d'Alba          Barbera   \n",
       "4  Columbia Crest 2014 Grand Estates Chardonnay (...       Chardonnay   \n",
       "\n",
       "    country      designation    province          winery  \n",
       "0        US              NaN  California        Starmont  \n",
       "1        US  Cuvee Christine  California         Donelan  \n",
       "2  Portugal   Colheita Tawny        Port       Burmester  \n",
       "3     Italy              NaN    Piedmont         Pelassa  \n",
       "4        US    Grand Estates  Washington  Columbia Crest  "
      ]
     },
     "execution_count": 11,
     "metadata": {},
     "output_type": "execute_result"
    }
   ],
   "source": [
    "reviews.head()"
   ]
  },
  {
   "cell_type": "markdown",
   "metadata": {},
   "source": [
    "Because we are focusing on the description (review) of the wine here is an example of one"
   ]
  },
  {
   "cell_type": "code",
   "execution_count": 12,
   "metadata": {},
   "outputs": [
    {
     "data": {
      "text/plain": [
       "\"A crisp, minerally wave of apples and pear start this wine from the cool-climate region of Elgin, and on the palate, it's equally delicate. Dry but with a touch of pretty sweetness, the wine is embraceable and a great solo sip.\""
      ]
     },
     "execution_count": 12,
     "metadata": {},
     "output_type": "execute_result"
    }
   ],
   "source": [
    "reviews['description'][5]"
   ]
  },
  {
   "cell_type": "markdown",
   "metadata": {},
   "source": [
    "We remove punctuation and other special characters and convert everything to lower case as it is not significat that words be capitalized."
   ]
  },
  {
   "cell_type": "code",
   "execution_count": 13,
   "metadata": {},
   "outputs": [
    {
     "data": {
      "text/plain": [
       "20000"
      ]
     },
     "execution_count": 13,
     "metadata": {},
     "output_type": "execute_result"
    }
   ],
   "source": [
    "descriptions = []\n",
    "\n",
    "for descrip in reviews['description']:\n",
    "    line = re.sub(r'\\W', ' ', str(descrip))\n",
    "    line = line.lower()\n",
    "    descriptions.append(line)\n",
    "    \n",
    "len(descriptions)"
   ]
  },
  {
   "cell_type": "markdown",
   "metadata": {},
   "source": [
    "Here we use `TfidfVectorizer`, in order to understand what it is what term frequency-inverse document frequency (TF_IDT) is must be explained first. TF-IDF is a measure that evaluates the relevancy that a word has for a document inside a collection of other documents. Furthermore TF-IDF can be defined as the following:\n",
    "\n",
    "$ \\text{Term Frequency (TF)} = \\frac{\\text{Frequency of a word}}{\\text{Total number of words in document}} $\n",
    "\n",
    "$ \\text{Inverse Document Frequency (IDF)} = \\log{\\frac{\\text{Total number of documents}}{\\text{Number of documents that contain the word}}} $\n",
    "\n",
    "$ \\text{TF-IDF} = \\text{TF} \\cdot \\text{IDF} $\n",
    "\n",
    "In turn what `TfidfVectorizer` gives us is a list of feature lists that we can use as estimators for prediction. \n",
    "\n",
    "The parameters for `TfidfVectorizer` are max_features, max_df, and stop_words. \n",
    "max_features tells us to only look at the top n features of the total document\n",
    "max_df causes the vectorizer to ignore terms that have a document frequency strictly higher than the given threshold. In our case because a float is its value we ignore words that appear in more that 80% of documents\n",
    "stop_words allows us to pass in a set of stop words. Stop words are words that add little to no meaning to a sentence. This includes words such as i, our, him, and her. \n",
    "Folling this we fit and transform the data then we xplit it into training and testing data"
   ]
  },
  {
   "cell_type": "code",
   "execution_count": 14,
   "metadata": {},
   "outputs": [],
   "source": [
    "y = reviews['points'].values\n",
    "vec = TfidfVectorizer(max_features=2500, min_df=7, max_df=0.8, stop_words=stopwords.words('english'))\n",
    "X = vec.fit_transform(descriptions).toarray()\n",
    "\n",
    "X_train, X_test, y_train, y_test = train_test_split(X, y, test_size = 0.25, random_state = 12)"
   ]
  },
  {
   "cell_type": "markdown",
   "metadata": {},
   "source": [
    "Now that we've split the data we use `RandomForestRegressor()` to make our prediciton given that its a random forest algorithm it takes the average of the decision trees that were created and used as estimates."
   ]
  },
  {
   "cell_type": "code",
   "execution_count": 15,
   "metadata": {},
   "outputs": [
    {
     "data": {
      "text/plain": [
       "RandomForestRegressor()"
      ]
     },
     "execution_count": 15,
     "metadata": {},
     "output_type": "execute_result"
    }
   ],
   "source": [
    "rfr = RandomForestRegressor()\n",
    "rfr.fit(X_train, y_train)"
   ]
  },
  {
   "cell_type": "code",
   "execution_count": 16,
   "metadata": {},
   "outputs": [],
   "source": [
    "pred = rfr.predict(X_test)"
   ]
  },
  {
   "cell_type": "markdown",
   "metadata": {},
   "source": [
    "Now we check to see how good our model is at predicting the points for a bottle of wine"
   ]
  },
  {
   "cell_type": "code",
   "execution_count": 17,
   "metadata": {},
   "outputs": [
    {
     "name": "stdout",
     "output_type": "stream",
     "text": [
      "r2 score: 0.4950601387266653\n",
      "rmse score: 2.1461066422710684\n"
     ]
    }
   ],
   "source": [
    "print('r2 score:', rfr.score(X_test, y_test))\n",
    "print('rmse score:', mean_squared_error(y_test, pred, squared=False))"
   ]
  },
  {
   "cell_type": "code",
   "execution_count": 18,
   "metadata": {},
   "outputs": [
    {
     "data": {
      "text/plain": [
       "0.43710399909256914"
      ]
     },
     "execution_count": 18,
     "metadata": {},
     "output_type": "execute_result"
    }
   ],
   "source": [
    "cvs = cross_val_score(rfr, X_test, y_test, cv=10)\n",
    "cvs.mean()"
   ]
  },
  {
   "cell_type": "markdown",
   "metadata": {},
   "source": [
    "This is solely based off the description of the wine. As you can see this is a large improvement in both the score and rmse for any sort of prediction that was done with any of the methods performed above. However, it is still not the best for several reasons. The first being the $r^2$ score, or how well our model is at making predictions. There is still a large portion of the data that is not being accurately predicted. \n",
    "\n",
    "The other issue pertains to when the model does fail at making the prediction. given that the rmse score is very high this can be interpreted as when we do fail we fail rather spectacualary. However, given that the context of this problem is making a prediction for determining arbitrary integer point values for bottles of wine, failing spectaculary is not necesarilly what is occuring. The rmse value tells use that with each incorrect prediction we are about 2.1 points off. However, it is still less than ideal.\n",
    "\n",
    "Below we see if we can improve upon these shortcomings. "
   ]
  },
  {
   "cell_type": "markdown",
   "metadata": {},
   "source": [
    "## Combining features"
   ]
  },
  {
   "cell_type": "markdown",
   "metadata": {},
   "source": [
    "Next we combine the features that were obtained from `TfidfVectorizer` with the features that we just factorized in there respective rows."
   ]
  },
  {
   "cell_type": "code",
   "execution_count": 19,
   "metadata": {},
   "outputs": [],
   "source": [
    "wine_X = factorized_wine.to_numpy('int64')\n",
    "X = np.concatenate((wine_X,X),axis=1)"
   ]
  },
  {
   "cell_type": "code",
   "execution_count": 20,
   "metadata": {},
   "outputs": [],
   "source": [
    "X_train, X_test, y_train, y_test = train_test_split(X, y, test_size = 0.25, random_state = 12)"
   ]
  },
  {
   "cell_type": "code",
   "execution_count": 21,
   "metadata": {},
   "outputs": [
    {
     "data": {
      "text/plain": [
       "RandomForestRegressor()"
      ]
     },
     "execution_count": 21,
     "metadata": {},
     "output_type": "execute_result"
    }
   ],
   "source": [
    "rfr_fac = RandomForestRegressor()\n",
    "rfr_fac.fit(X_train, y_train)"
   ]
  },
  {
   "cell_type": "code",
   "execution_count": 22,
   "metadata": {},
   "outputs": [],
   "source": [
    "fac_pred = rfr_fac.predict(X_test)"
   ]
  },
  {
   "cell_type": "markdown",
   "metadata": {},
   "source": [
    "Next we perform the same actions as above to determine the accuracy of the prediction. That is we use `score()` and perform a 10 fold cross validation and then take the mean of the scores. "
   ]
  },
  {
   "cell_type": "code",
   "execution_count": 23,
   "metadata": {},
   "outputs": [
    {
     "name": "stdout",
     "output_type": "stream",
     "text": [
      "r2 score: 0.5738683914990945\n",
      "rmse score: 1.9715297968836283\n"
     ]
    }
   ],
   "source": [
    "print('r2 score:', rfr_fac.score(X_test, y_test))\n",
    "print('rmse score:', mean_squared_error(y_test, fac_pred, squared=False))"
   ]
  },
  {
   "cell_type": "code",
   "execution_count": 24,
   "metadata": {},
   "outputs": [
    {
     "data": {
      "text/plain": [
       "0.5221010937266104"
      ]
     },
     "execution_count": 24,
     "metadata": {},
     "output_type": "execute_result"
    }
   ],
   "source": [
    "fac_cvs = cross_val_score(rfr_fac, X_test, y_test, cv=10)\n",
    "fac_cvs.mean()"
   ]
  },
  {
   "cell_type": "markdown",
   "metadata": {},
   "source": [
    "As we can see from the scores computed above the accuracy is an improvement from only using the wine description (review) as a feature. Both the $r^2$ score and RMSE value improved by about 8% and 0.15 respectively. However, the model isnt all that reliable as there is only slightly above 50% of the bottles of wine from the sample can have their score predicted accurately"
   ]
  },
  {
   "cell_type": "markdown",
   "metadata": {},
   "source": [
    "# Conclusion"
   ]
  },
  {
   "cell_type": "markdown",
   "metadata": {},
   "source": [
    "After comparing the price to the points for a bottle of wine we learned that the majority of the data is clustered towards the middle in regards to the point value a bottle was awarded and there are few outliers in either the positive or negative direction. Furthermore most wine follows the trend of having a greater number of points awarded as the price increases.\n",
    "\n",
    "From these trends we attempted to determine if we can actually predict how many points a bottle of wine will receive. Given the the best prediction that we could obtain took into account several features in addition with the price of the wine and only has 52% accuracy we are lead to believe that the point system that results from the wine in this dataset is more subjective than objective."
   ]
  }
 ],
 "metadata": {
  "kernelspec": {
   "display_name": "Python 3",
   "language": "python",
   "name": "python3"
  },
  "language_info": {
   "codemirror_mode": {
    "name": "ipython",
    "version": 3
   },
   "file_extension": ".py",
   "mimetype": "text/x-python",
   "name": "python",
   "nbconvert_exporter": "python",
   "pygments_lexer": "ipython3",
   "version": "3.8.5"
  }
 },
 "nbformat": 4,
 "nbformat_minor": 4
}
